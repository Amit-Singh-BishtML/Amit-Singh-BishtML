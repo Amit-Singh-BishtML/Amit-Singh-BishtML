{
 "cells": [
  {
   "cell_type": "code",
   "execution_count": 10,
   "id": "b105b8c8",
   "metadata": {},
   "outputs": [
    {
     "name": "stdout",
     "output_type": "stream",
     "text": [
      "No. of Even Numbers= 4\n",
      "No. of Odd Number= 5\n"
     ]
    }
   ],
   "source": [
    "#counts odd, even numbers\n",
    "numbers = [1,2,3,4,5,6,7,8,9]\n",
    "countEven=0\n",
    "countOdd=0\n",
    "for i in numbers:\n",
    "    if(i%2 == 0):\n",
    "     countEven +=1\n",
    "    if (i%2 != 0):\n",
    "     countOdd +=1\n",
    "print(f'No. of Even Numbers= {countEven}')    \n",
    "print(f'No. of Odd Number= {countOdd}')\n",
    "                "
   ]
  },
  {
   "cell_type": "code",
   "execution_count": 22,
   "id": "1835db4f",
   "metadata": {},
   "outputs": [
    {
     "name": "stdout",
     "output_type": "stream",
     "text": [
      "2\n",
      "4\n",
      "6\n",
      "8\n",
      "total even numbers are= 4\n"
     ]
    }
   ],
   "source": [
    "#Prints only even numbers\n",
    "numbers = [1,2,3,4,5,6,7,8,9]\n",
    "count=0\n",
    "for num in numbers:\n",
    "    if(num%2==0):\n",
    "        count+=1\n",
    "        print(num) \n",
    "    \n",
    "print(f'total even numbers are= {count}')\n",
    "\n",
    "    "
   ]
  },
  {
   "cell_type": "code",
   "execution_count": 40,
   "id": "7c117f17",
   "metadata": {},
   "outputs": [
    {
     "name": "stdout",
     "output_type": "stream",
     "text": [
      "1\n"
     ]
    }
   ],
   "source": [
    "#factorial of a number\n",
    "number=0\n",
    "fac=1\n",
    "if(number==0):\n",
    "    print(1)\n",
    "else:\n",
    "    while(number>=1):\n",
    "     fac=number*fac\n",
    "     number-=1\n",
    "    print(fac)"
   ]
  },
  {
   "cell_type": "code",
   "execution_count": 46,
   "id": "0d4601e9",
   "metadata": {},
   "outputs": [
    {
     "name": "stdout",
     "output_type": "stream",
     "text": [
      "YOU WILL NOT BE ABLE TO FIND A TABLE CHEAPER THAN OUR SHOP\n",
      "YOU WILL NOT BE ABLE TO FIND A CHAIR CHEAPER THAN OUR SHOP\n",
      "YOU WILL NOT BE ABLE TO FIND A LAMP CHEAPER THAN OUR SHOP\n",
      "YOU WILL NOT BE ABLE TO FIND A DESK CHEAPER THAN OUR SHOP\n",
      "YOU WILL NOT BE ABLE TO FIND A COUCH CHEAPER THAN OUR SHOP\n"
     ]
    }
   ],
   "source": [
    "furniture = ['table','chair','lamp','desk','couch']\n",
    "for item in furniture:\n",
    "    print(f'YOU WILL NOT BE ABLE TO FIND A {item.upper()} CHEAPER THAN OUR SHOP')"
   ]
  },
  {
   "cell_type": "code",
   "execution_count": 48,
   "id": "3d84d941",
   "metadata": {},
   "outputs": [
    {
     "name": "stdout",
     "output_type": "stream",
     "text": [
      "YOU WILL NOT BE ABLE TO FIND A TABLE CHEAPER THAN OUR SHOP\n",
      "YOU WILL NOT BE ABLE TO FIND A CHAIR CHEAPER THAN OUR SHOP\n",
      "YOU WILL NOT BE ABLE TO FIND A LAMP CHEAPER THAN OUR SHOP\n",
      "YOU WILL NOT BE ABLE TO FIND A DESK CHEAPER THAN OUR SHOP\n",
      "YOU WILL NOT BE ABLE TO FIND A COUCH CHEAPER THAN OUR SHOP\n"
     ]
    }
   ],
   "source": [
    "i=0\n",
    "while i<len(furniture):\n",
    "         print(f'YOU WILL NOT BE ABLE TO FIND A {furniture[i].upper()} CHEAPER THAN OUR SHOP')\n",
    "         i+=1"
   ]
  },
  {
   "cell_type": "code",
   "execution_count": 2,
   "id": "c1028291",
   "metadata": {},
   "outputs": [
    {
     "name": "stdout",
     "output_type": "stream",
     "text": [
      "total number of even numbers in the list are: 6\n",
      "total number of odd numbers in the list are: 8\n"
     ]
    }
   ],
   "source": [
    "#counts odd, even numbers\n",
    "numbers = [1,2,3,4,5,6,7,8,9,36,23,55,67,66]\n",
    "count_Odd=0\n",
    "count_Even=0\n",
    "for digit in numbers:\n",
    "    if(digit%2==0):\n",
    "        count_Even+=1\n",
    "    if(digit%2!=0):\n",
    "        count_Odd+=1\n",
    "print(f'total number of even numbers in the list are: {count_Even}') \n",
    "print(f'total number of odd numbers in the list are: {count_Odd}') \n",
    "\n",
    "\n",
    "        "
   ]
  },
  {
   "cell_type": "code",
   "execution_count": 3,
   "id": "4191432a",
   "metadata": {},
   "outputs": [
    {
     "name": "stdout",
     "output_type": "stream",
     "text": [
      "2\n",
      "4\n",
      "6\n",
      "8\n",
      "36\n",
      "66\n",
      "total number of even numbers in the list are: 6\n"
     ]
    }
   ],
   "source": [
    "#Prints only even numbers\n",
    "numbers = [1,2,3,4,5,6,7,8,9,36,23,55,67,66]\n",
    "countEven=0\n",
    "for x in numbers:\n",
    "    if(x%2==0):\n",
    "        countEven+=1\n",
    "        print(x)\n",
    "print(f'total number of even numbers in the list are: {countEven}') \n",
    "    \n"
   ]
  },
  {
   "cell_type": "code",
   "execution_count": 14,
   "id": "4fcc1ee3",
   "metadata": {},
   "outputs": [
    {
     "name": "stdout",
     "output_type": "stream",
     "text": [
      "factorial is 620448401733239439360000\n"
     ]
    }
   ],
   "source": [
    "#factorial of a number\n",
    "number=24\n",
    "fac=1\n",
    "if(number==0):\n",
    "    print(f'factorial is {1}')\n",
    "while(number>=1):\n",
    "    fac=number*fac\n",
    "    number-=1\n",
    "print(f'factorial is {fac}')    \n",
    "    "
   ]
  },
  {
   "cell_type": "code",
   "execution_count": null,
   "id": "40a0d5f3",
   "metadata": {},
   "outputs": [],
   "source": []
  }
 ],
 "metadata": {
  "kernelspec": {
   "display_name": "Python 3 (ipykernel)",
   "language": "python",
   "name": "python3"
  },
  "language_info": {
   "codemirror_mode": {
    "name": "ipython",
    "version": 3
   },
   "file_extension": ".py",
   "mimetype": "text/x-python",
   "name": "python",
   "nbconvert_exporter": "python",
   "pygments_lexer": "ipython3",
   "version": "3.9.12"
  }
 },
 "nbformat": 4,
 "nbformat_minor": 5
}
