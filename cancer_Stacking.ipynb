{
 "cells": [
  {
   "cell_type": "markdown",
   "id": "03ace9a4",
   "metadata": {},
   "source": [
    "## Importing Dataset"
   ]
  },
  {
   "cell_type": "code",
   "execution_count": 22,
   "id": "e62dc1fa",
   "metadata": {},
   "outputs": [
    {
     "data": {
      "text/html": [
       "<div>\n",
       "<style scoped>\n",
       "    .dataframe tbody tr th:only-of-type {\n",
       "        vertical-align: middle;\n",
       "    }\n",
       "\n",
       "    .dataframe tbody tr th {\n",
       "        vertical-align: top;\n",
       "    }\n",
       "\n",
       "    .dataframe thead th {\n",
       "        text-align: right;\n",
       "    }\n",
       "</style>\n",
       "<table border=\"1\" class=\"dataframe\">\n",
       "  <thead>\n",
       "    <tr style=\"text-align: right;\">\n",
       "      <th></th>\n",
       "      <th>id</th>\n",
       "      <th>Clump Thickness</th>\n",
       "      <th>UofCSize</th>\n",
       "      <th>UofCShape</th>\n",
       "      <th>Marginal Adhesion</th>\n",
       "      <th>SECSize</th>\n",
       "      <th>Bare Nuclei</th>\n",
       "      <th>Bland Chromatin</th>\n",
       "      <th>Normal Nucleoli</th>\n",
       "      <th>Mitoses</th>\n",
       "      <th>Class</th>\n",
       "    </tr>\n",
       "  </thead>\n",
       "  <tbody>\n",
       "    <tr>\n",
       "      <th>0</th>\n",
       "      <td>1000025</td>\n",
       "      <td>5</td>\n",
       "      <td>1</td>\n",
       "      <td>1</td>\n",
       "      <td>1</td>\n",
       "      <td>2</td>\n",
       "      <td>1</td>\n",
       "      <td>3</td>\n",
       "      <td>1</td>\n",
       "      <td>1</td>\n",
       "      <td>2</td>\n",
       "    </tr>\n",
       "    <tr>\n",
       "      <th>1</th>\n",
       "      <td>1002945</td>\n",
       "      <td>5</td>\n",
       "      <td>4</td>\n",
       "      <td>4</td>\n",
       "      <td>5</td>\n",
       "      <td>7</td>\n",
       "      <td>10</td>\n",
       "      <td>3</td>\n",
       "      <td>2</td>\n",
       "      <td>1</td>\n",
       "      <td>2</td>\n",
       "    </tr>\n",
       "    <tr>\n",
       "      <th>2</th>\n",
       "      <td>1015425</td>\n",
       "      <td>3</td>\n",
       "      <td>1</td>\n",
       "      <td>1</td>\n",
       "      <td>1</td>\n",
       "      <td>2</td>\n",
       "      <td>2</td>\n",
       "      <td>3</td>\n",
       "      <td>1</td>\n",
       "      <td>1</td>\n",
       "      <td>2</td>\n",
       "    </tr>\n",
       "    <tr>\n",
       "      <th>3</th>\n",
       "      <td>1016277</td>\n",
       "      <td>6</td>\n",
       "      <td>8</td>\n",
       "      <td>8</td>\n",
       "      <td>1</td>\n",
       "      <td>3</td>\n",
       "      <td>4</td>\n",
       "      <td>3</td>\n",
       "      <td>7</td>\n",
       "      <td>1</td>\n",
       "      <td>2</td>\n",
       "    </tr>\n",
       "    <tr>\n",
       "      <th>4</th>\n",
       "      <td>1017023</td>\n",
       "      <td>4</td>\n",
       "      <td>1</td>\n",
       "      <td>1</td>\n",
       "      <td>3</td>\n",
       "      <td>2</td>\n",
       "      <td>1</td>\n",
       "      <td>3</td>\n",
       "      <td>1</td>\n",
       "      <td>1</td>\n",
       "      <td>2</td>\n",
       "    </tr>\n",
       "  </tbody>\n",
       "</table>\n",
       "</div>"
      ],
      "text/plain": [
       "        id  Clump Thickness  UofCSize  UofCShape  Marginal Adhesion  SECSize  \\\n",
       "0  1000025                5         1          1                  1        2   \n",
       "1  1002945                5         4          4                  5        7   \n",
       "2  1015425                3         1          1                  1        2   \n",
       "3  1016277                6         8          8                  1        3   \n",
       "4  1017023                4         1          1                  3        2   \n",
       "\n",
       "   Bare Nuclei  Bland Chromatin  Normal Nucleoli  Mitoses  Class  \n",
       "0            1                3                1        1      2  \n",
       "1           10                3                2        1      2  \n",
       "2            2                3                1        1      2  \n",
       "3            4                3                7        1      2  \n",
       "4            1                3                1        1      2  "
      ]
     },
     "execution_count": 22,
     "metadata": {},
     "output_type": "execute_result"
    }
   ],
   "source": [
    "import pandas as pd\n",
    "cancer=pd.read_csv('cancer.csv')\n",
    "cancer.head()"
   ]
  },
  {
   "cell_type": "code",
   "execution_count": 4,
   "id": "b703950b",
   "metadata": {
    "scrolled": true
   },
   "outputs": [
    {
     "data": {
      "text/plain": [
       "(683, 11)"
      ]
     },
     "execution_count": 4,
     "metadata": {},
     "output_type": "execute_result"
    }
   ],
   "source": [
    "cancer.shape"
   ]
  },
  {
   "cell_type": "code",
   "execution_count": 14,
   "id": "c017d5da",
   "metadata": {},
   "outputs": [
    {
     "data": {
      "text/html": [
       "<div>\n",
       "<style scoped>\n",
       "    .dataframe tbody tr th:only-of-type {\n",
       "        vertical-align: middle;\n",
       "    }\n",
       "\n",
       "    .dataframe tbody tr th {\n",
       "        vertical-align: top;\n",
       "    }\n",
       "\n",
       "    .dataframe thead th {\n",
       "        text-align: right;\n",
       "    }\n",
       "</style>\n",
       "<table border=\"1\" class=\"dataframe\">\n",
       "  <thead>\n",
       "    <tr style=\"text-align: right;\">\n",
       "      <th></th>\n",
       "      <th>id</th>\n",
       "      <th>Clump Thickness</th>\n",
       "      <th>UofCSize</th>\n",
       "      <th>UofCShape</th>\n",
       "      <th>Marginal Adhesion</th>\n",
       "      <th>SECSize</th>\n",
       "      <th>Bare Nuclei</th>\n",
       "      <th>Bland Chromatin</th>\n",
       "      <th>Normal Nucleoli</th>\n",
       "      <th>Mitoses</th>\n",
       "    </tr>\n",
       "  </thead>\n",
       "  <tbody>\n",
       "    <tr>\n",
       "      <th>0</th>\n",
       "      <td>1000025</td>\n",
       "      <td>5</td>\n",
       "      <td>1</td>\n",
       "      <td>1</td>\n",
       "      <td>1</td>\n",
       "      <td>2</td>\n",
       "      <td>1</td>\n",
       "      <td>3</td>\n",
       "      <td>1</td>\n",
       "      <td>1</td>\n",
       "    </tr>\n",
       "    <tr>\n",
       "      <th>1</th>\n",
       "      <td>1002945</td>\n",
       "      <td>5</td>\n",
       "      <td>4</td>\n",
       "      <td>4</td>\n",
       "      <td>5</td>\n",
       "      <td>7</td>\n",
       "      <td>10</td>\n",
       "      <td>3</td>\n",
       "      <td>2</td>\n",
       "      <td>1</td>\n",
       "    </tr>\n",
       "    <tr>\n",
       "      <th>2</th>\n",
       "      <td>1015425</td>\n",
       "      <td>3</td>\n",
       "      <td>1</td>\n",
       "      <td>1</td>\n",
       "      <td>1</td>\n",
       "      <td>2</td>\n",
       "      <td>2</td>\n",
       "      <td>3</td>\n",
       "      <td>1</td>\n",
       "      <td>1</td>\n",
       "    </tr>\n",
       "    <tr>\n",
       "      <th>3</th>\n",
       "      <td>1016277</td>\n",
       "      <td>6</td>\n",
       "      <td>8</td>\n",
       "      <td>8</td>\n",
       "      <td>1</td>\n",
       "      <td>3</td>\n",
       "      <td>4</td>\n",
       "      <td>3</td>\n",
       "      <td>7</td>\n",
       "      <td>1</td>\n",
       "    </tr>\n",
       "    <tr>\n",
       "      <th>4</th>\n",
       "      <td>1017023</td>\n",
       "      <td>4</td>\n",
       "      <td>1</td>\n",
       "      <td>1</td>\n",
       "      <td>3</td>\n",
       "      <td>2</td>\n",
       "      <td>1</td>\n",
       "      <td>3</td>\n",
       "      <td>1</td>\n",
       "      <td>1</td>\n",
       "    </tr>\n",
       "    <tr>\n",
       "      <th>...</th>\n",
       "      <td>...</td>\n",
       "      <td>...</td>\n",
       "      <td>...</td>\n",
       "      <td>...</td>\n",
       "      <td>...</td>\n",
       "      <td>...</td>\n",
       "      <td>...</td>\n",
       "      <td>...</td>\n",
       "      <td>...</td>\n",
       "      <td>...</td>\n",
       "    </tr>\n",
       "    <tr>\n",
       "      <th>678</th>\n",
       "      <td>776715</td>\n",
       "      <td>3</td>\n",
       "      <td>1</td>\n",
       "      <td>1</td>\n",
       "      <td>1</td>\n",
       "      <td>3</td>\n",
       "      <td>2</td>\n",
       "      <td>1</td>\n",
       "      <td>1</td>\n",
       "      <td>1</td>\n",
       "    </tr>\n",
       "    <tr>\n",
       "      <th>679</th>\n",
       "      <td>841769</td>\n",
       "      <td>2</td>\n",
       "      <td>1</td>\n",
       "      <td>1</td>\n",
       "      <td>1</td>\n",
       "      <td>2</td>\n",
       "      <td>1</td>\n",
       "      <td>1</td>\n",
       "      <td>1</td>\n",
       "      <td>1</td>\n",
       "    </tr>\n",
       "    <tr>\n",
       "      <th>680</th>\n",
       "      <td>888820</td>\n",
       "      <td>5</td>\n",
       "      <td>10</td>\n",
       "      <td>10</td>\n",
       "      <td>3</td>\n",
       "      <td>7</td>\n",
       "      <td>3</td>\n",
       "      <td>8</td>\n",
       "      <td>10</td>\n",
       "      <td>2</td>\n",
       "    </tr>\n",
       "    <tr>\n",
       "      <th>681</th>\n",
       "      <td>897471</td>\n",
       "      <td>4</td>\n",
       "      <td>8</td>\n",
       "      <td>6</td>\n",
       "      <td>4</td>\n",
       "      <td>3</td>\n",
       "      <td>4</td>\n",
       "      <td>10</td>\n",
       "      <td>6</td>\n",
       "      <td>1</td>\n",
       "    </tr>\n",
       "    <tr>\n",
       "      <th>682</th>\n",
       "      <td>897471</td>\n",
       "      <td>4</td>\n",
       "      <td>8</td>\n",
       "      <td>8</td>\n",
       "      <td>5</td>\n",
       "      <td>4</td>\n",
       "      <td>5</td>\n",
       "      <td>10</td>\n",
       "      <td>4</td>\n",
       "      <td>1</td>\n",
       "    </tr>\n",
       "  </tbody>\n",
       "</table>\n",
       "<p>683 rows × 10 columns</p>\n",
       "</div>"
      ],
      "text/plain": [
       "          id  Clump Thickness  UofCSize  UofCShape  Marginal Adhesion  \\\n",
       "0    1000025                5         1          1                  1   \n",
       "1    1002945                5         4          4                  5   \n",
       "2    1015425                3         1          1                  1   \n",
       "3    1016277                6         8          8                  1   \n",
       "4    1017023                4         1          1                  3   \n",
       "..       ...              ...       ...        ...                ...   \n",
       "678   776715                3         1          1                  1   \n",
       "679   841769                2         1          1                  1   \n",
       "680   888820                5        10         10                  3   \n",
       "681   897471                4         8          6                  4   \n",
       "682   897471                4         8          8                  5   \n",
       "\n",
       "     SECSize  Bare Nuclei  Bland Chromatin  Normal Nucleoli  Mitoses  \n",
       "0          2            1                3                1        1  \n",
       "1          7           10                3                2        1  \n",
       "2          2            2                3                1        1  \n",
       "3          3            4                3                7        1  \n",
       "4          2            1                3                1        1  \n",
       "..       ...          ...              ...              ...      ...  \n",
       "678        3            2                1                1        1  \n",
       "679        2            1                1                1        1  \n",
       "680        7            3                8               10        2  \n",
       "681        3            4               10                6        1  \n",
       "682        4            5               10                4        1  \n",
       "\n",
       "[683 rows x 10 columns]"
      ]
     },
     "execution_count": 14,
     "metadata": {},
     "output_type": "execute_result"
    }
   ],
   "source": [
    "y = cancer['Class']\n",
    "X= cancer.drop('Class', axis = 1)"
   ]
  },
  {
   "cell_type": "markdown",
   "id": "4b65cd3f",
   "metadata": {},
   "source": [
    "## Remove low variance features"
   ]
  },
  {
   "cell_type": "code",
   "execution_count": 21,
   "id": "13ceaad0",
   "metadata": {},
   "outputs": [
    {
     "data": {
      "text/plain": [
       "(683, 10)"
      ]
     },
     "execution_count": 21,
     "metadata": {},
     "output_type": "execute_result"
    }
   ],
   "source": [
    "from sklearn.feature_selection import VarianceThreshold\n",
    "selection = VarianceThreshold(threshold=(0.1))\n",
    "X = selection.fit_transform(X)"
   ]
  },
  {
   "cell_type": "markdown",
   "id": "e6ce3662",
   "metadata": {},
   "source": [
    "## Data Splitting"
   ]
  },
  {
   "cell_type": "code",
   "execution_count": 24,
   "id": "b0bf0f59",
   "metadata": {},
   "outputs": [],
   "source": [
    "from sklearn.model_selection import train_test_split\n",
    "X_train, X_test, y_train, y_test = train_test_split(X, y, stratify = y, test_size =0.3)\n"
   ]
  },
  {
   "cell_type": "markdown",
   "id": "88e338d2",
   "metadata": {},
   "source": [
    "## Building Classification Models"
   ]
  },
  {
   "cell_type": "code",
   "execution_count": 36,
   "id": "89f3d73e",
   "metadata": {},
   "outputs": [],
   "source": [
    "from sklearn.metrics import accuracy_score\n",
    "from sklearn.metrics import matthews_corrcoef\n",
    "from sklearn.metrics import f1_score\n"
   ]
  },
  {
   "cell_type": "markdown",
   "id": "9c10386d",
   "metadata": {},
   "source": [
    "## Kneighborsclassifier"
   ]
  },
  {
   "cell_type": "code",
   "execution_count": 102,
   "id": "79d93133",
   "metadata": {},
   "outputs": [
    {
     "name": "stdout",
     "output_type": "stream",
     "text": [
      "metrics for training are:\n",
      " accuracy_score     0.803347280334728\n",
      " matthews_corrcoef  0.5561917843988671\n",
      " f1_score           0.799387908689415\n",
      "------------------------------\n",
      "metrics for training are:\n",
      " accuracy_score     0.6097560975609756\n",
      " matthews_corrcoef  0.14369256474519632\n",
      " f1_score           0.6097560975609756\n"
     ]
    }
   ],
   "source": [
    "from sklearn.neighbors import KNeighborsClassifier\n",
    "knn = KNeighborsClassifier(3)\n",
    "knn.fit(X_train,y_train)\n",
    "\n",
    "#prediction\n",
    "y_train_pred = knn.predict(X_train)\n",
    "y_test_pred = knn.predict(X_test)\n",
    "\n",
    "#Training Set performance\n",
    "knn_train_accuracy = accuracy_score(y_train,y_train_pred)\n",
    "knn_train_mcc = matthews_corrcoef(y_train,y_train_pred)\n",
    "knn_train_f1score = f1_score(y_train,y_train_pred, average = 'weighted')\n",
    "\n",
    "#Test set performance\n",
    "knn_test_accuracy = accuracy_score(y_test,y_test_pred)\n",
    "knn_test_mcc = matthews_corrcoef(y_test,y_test_pred)\n",
    "knn_test_f1score = f1_score(y_test,y_test_pred, average = 'weighted')\n",
    "\n",
    "print('metrics for training are:')\n",
    "print(f' accuracy_score     {knn_train_accuracy}')\n",
    "print(f' matthews_corrcoef  {knn_train_mcc}') \n",
    "print(f' f1_score           {knn_train_f1score}')  \n",
    "\n",
    "print('------------------------------')\n",
    "\n",
    "print('metrics for training are:')\n",
    "print(f' accuracy_score     {knn_test_accuracy}')\n",
    "print(f' matthews_corrcoef  {knn_test_mcc}') \n",
    "print(f' f1_score           {knn_test_f1score}') \n",
    "\n"
   ]
  },
  {
   "cell_type": "markdown",
   "id": "61113a99",
   "metadata": {},
   "source": [
    "## Support Vector Machine (Radial Basis Fuction)"
   ]
  },
  {
   "cell_type": "code",
   "execution_count": 118,
   "id": "ba218669",
   "metadata": {
    "scrolled": true
   },
   "outputs": [
    {
     "name": "stdout",
     "output_type": "stream",
     "text": [
      "metrics for training are:\n",
      " accuracy_score     1.0\n",
      " matthews_corrcoef  1.0\n",
      " f1_score           1.0\n",
      "------------------------------\n",
      "metrics for training are:\n",
      " accuracy_score     1.0\n",
      " matthews_corrcoef  1.0\n",
      " f1_score           1.0\n"
     ]
    }
   ],
   "source": [
    "from sklearn.svm import SVC\n",
    "svm = SVC(gamma = 2 , C=1)\n",
    "svm.fit(X_train,y_train)\n",
    "\n",
    "#prediction\n",
    "y_train_pred = svm.predict(X_train)\n",
    "y_test_pred = svm.predict(X_test)\n",
    "\n",
    "#Training Set performance\n",
    "svm_train_accuracy = accuracy_score(y_train,y_train_pred)\n",
    "svm_train_mcc = matthews_corrcoef(y_train,y_train_pred)\n",
    "svm_train_f1score = f1_score(y_train,y_train_pred, average = 'weighted')\n",
    "\n",
    "#Testing Set performance\n",
    "svm_test_accuracy = accuracy_score(y_train,y_train_pred)\n",
    "svm_test_mcc = matthews_corrcoef(y_train,y_train_pred)\n",
    "svm_test_f1score = f1_score(y_train,y_train_pred, average = 'weighted')\n",
    "\n",
    "print('metrics for training are:')\n",
    "print(f' accuracy_score     {svm_train_accuracy}')\n",
    "print(f' matthews_corrcoef  {svm_train_mcc}') \n",
    "print(f' f1_score           {svm_train_f1score}')  \n",
    "\n",
    "print('------------------------------')\n",
    "\n",
    "print('metrics for training are:')\n",
    "print(f' accuracy_score     {svm_test_accuracy}')\n",
    "print(f' matthews_corrcoef  {svm_test_mcc}') \n",
    "print(f' f1_score           {svm_test_f1score}') "
   ]
  },
  {
   "cell_type": "markdown",
   "id": "4819d1ee",
   "metadata": {},
   "source": [
    "## Decision Tree"
   ]
  },
  {
   "cell_type": "code",
   "execution_count": 67,
   "id": "d6cda21f",
   "metadata": {},
   "outputs": [
    {
     "name": "stdout",
     "output_type": "stream",
     "text": [
      "metrics for training are:\n",
      " accuracy_score     1.0\n",
      " matthews_corrcoef  1.0\n",
      " f1_score           1.0\n",
      "------------------------------\n",
      "metrics for training are:\n",
      " accuracy_score     1.0\n",
      " matthews_corrcoef  1.0\n",
      " f1_score           1.0\n"
     ]
    }
   ],
   "source": [
    "from sklearn.tree import DecisionTreeClassifier\n",
    "dt = DecisionTreeClassifier()\n",
    "dt.fit(X_train,y_train)\n",
    "\n",
    "#prediction\n",
    "y_train_pred = dt.predict(X_train)\n",
    "y_test_pred = dt.predict(X_test)\n",
    "\n",
    "#Training Set performance\n",
    "dt_train_accuracy = accuracy_score(y_train,y_train_pred)\n",
    "dt_train_mcc = matthews_corrcoef(y_train,y_train_pred)\n",
    "dt_train_f1score = f1_score(y_train,y_train_pred, average = 'weighted')\n",
    "\n",
    "#Testing Set performance\n",
    "dt_test_accuracy = accuracy_score(y_train,y_train_pred)\n",
    "dt_test_mcc = matthews_corrcoef(y_train,y_train_pred)\n",
    "dt_test_f1score = f1_score(y_train,y_train_pred, average = 'weighted')\n",
    "\n",
    "print('metrics for training are:')\n",
    "print(f' accuracy_score     {dt_train_accuracy}')\n",
    "print(f' matthews_corrcoef  {dt_train_mcc}') \n",
    "print(f' f1_score           {dt_train_f1score}')  \n",
    "\n",
    "print('------------------------------')\n",
    "\n",
    "print('metrics for training are:')\n",
    "print(f' accuracy_score     {dt_test_accuracy}')\n",
    "print(f' matthews_corrcoef  {dt_test_mcc}') \n",
    "print(f' f1_score           {dt_test_f1score}') \n",
    "\n"
   ]
  },
  {
   "cell_type": "markdown",
   "id": "6e340072",
   "metadata": {},
   "source": [
    "## random forest"
   ]
  },
  {
   "cell_type": "code",
   "execution_count": 123,
   "id": "9ba1d300",
   "metadata": {},
   "outputs": [
    {
     "name": "stdout",
     "output_type": "stream",
     "text": [
      "metrics for training are:\n",
      " accuracy_score     1.0\n",
      " matthews_corrcoef  1.0\n",
      " f1_score           1.0\n",
      "------------------------------\n",
      "metrics for training are:\n",
      " accuracy_score     1.0\n",
      " matthews_corrcoef  1.0\n",
      " f1_score           1.0\n"
     ]
    },
    {
     "data": {
      "text/plain": [
       "1.0"
      ]
     },
     "execution_count": 123,
     "metadata": {},
     "output_type": "execute_result"
    }
   ],
   "source": [
    "from sklearn.ensemble import RandomForestClassifier\n",
    "rf = RandomForestClassifier(n_estimators = 10)\n",
    "rf.fit(X_train, y_train)\n",
    "\n",
    "#prediction\n",
    "y_train_pred = rf.predict(X_train)\n",
    "y_test_pred = rf.predict(X_test)\n",
    "\n",
    "#Training Set performance\n",
    "rf_train_accuracy = accuracy_score(y_train,y_train_pred)\n",
    "rf_train_mcc = matthews_corrcoef(y_train,y_train_pred)\n",
    "rf_train_f1score = f1_score(y_train,y_train_pred, average = 'weighted')\n",
    "\n",
    "#Testing Set performance\n",
    "rf_test_accuracy = accuracy_score(y_train,y_train_pred)\n",
    "rf_test_mcc = matthews_corrcoef(y_train,y_train_pred)\n",
    "rf_test_f1score = f1_score(y_train,y_train_pred, average = 'weighted')\n",
    "\n",
    "print('metrics for training are:')\n",
    "print(f' accuracy_score     {rf_train_accuracy}')\n",
    "print(f' matthews_corrcoef  {rf_train_mcc}') \n",
    "print(f' f1_score           {rf_train_f1score}')  \n",
    "\n",
    "print('------------------------------')\n",
    "\n",
    "print('metrics for training are:')\n",
    "print(f' accuracy_score     {rf_test_accuracy}')\n",
    "print(f' matthews_corrcoef  {rf_test_mcc}') \n",
    "print(f' f1_score           {rf_test_f1score}') "
   ]
  },
  {
   "cell_type": "markdown",
   "id": "846b1e1b",
   "metadata": {},
   "source": [
    "## Neural Network"
   ]
  },
  {
   "cell_type": "code",
   "execution_count": 137,
   "id": "12e30c13",
   "metadata": {
    "scrolled": true
   },
   "outputs": [
    {
     "name": "stdout",
     "output_type": "stream",
     "text": [
      "metrics for training are:\n",
      " accuracy_score     0.6506276150627615\n",
      " matthews_corrcoef  0.0\n",
      " f1_score           0.512915559656575\n",
      "------------------------------\n",
      "metrics for training are:\n",
      " accuracy_score     0.6506276150627615\n",
      " matthews_corrcoef  0.0\n",
      " f1_score           0.512915559656575\n"
     ]
    }
   ],
   "source": [
    "from sklearn.neural_network import MLPClassifier\n",
    "nn = MLPClassifier(alpha = 5, max_iter = 2000)\n",
    "nn.fit(X_train,y_train)\n",
    "\n",
    "#prediction\n",
    "y_train_pred = nn.predict(X_train)\n",
    "y_test_pred = nn.predict(X_test)\n",
    "\n",
    "#Training Set performance\n",
    "nn_train_accuracy = accuracy_score(y_train,y_train_pred)\n",
    "nn_train_mcc = matthews_corrcoef(y_train,y_train_pred)\n",
    "nn_train_f1score = f1_score(y_train,y_train_pred, average = 'weighted')\n",
    "\n",
    "#Testing Set performance\n",
    "nn_test_accuracy = accuracy_score(y_train,y_train_pred)\n",
    "nn_test_mcc = matthews_corrcoef(y_train,y_train_pred)\n",
    "nn_test_f1score = f1_score(y_train,y_train_pred, average = 'weighted')\n",
    "\n",
    "print('metrics for training are:')\n",
    "print(f' accuracy_score     {nn_train_accuracy}')\n",
    "print(f' matthews_corrcoef  {nn_train_mcc}') \n",
    "print(f' f1_score           {nn_train_f1score}')  \n",
    "\n",
    "print('------------------------------')\n",
    "\n",
    "print('metrics for training are:')\n",
    "print(f' accuracy_score     {nn_test_accuracy}')\n",
    "print(f' matthews_corrcoef  {nn_test_mcc}') \n",
    "print(f' f1_score           {nn_test_f1score}') \n",
    "\n",
    "\n"
   ]
  },
  {
   "cell_type": "markdown",
   "id": "6245fda7",
   "metadata": {},
   "source": [
    "## Building stack model"
   ]
  },
  {
   "cell_type": "code",
   "execution_count": 159,
   "id": "de0d32e6",
   "metadata": {},
   "outputs": [
    {
     "name": "stdout",
     "output_type": "stream",
     "text": [
      "metrics for training are:\n",
      " accuracy_score     1.0\n",
      " matthews_corrcoef  1.0\n",
      " f1_score           1.0\n",
      "------------------------------\n",
      "metrics for training are:\n",
      " accuracy_score     1.0\n",
      " matthews_corrcoef  1.0\n",
      " f1_score           1.0\n"
     ]
    }
   ],
   "source": [
    "from sklearn.ensemble import StackingClassifier\n",
    "from sklearn.linear_model import LogisticRegression\n",
    "estimator = [('knn',knn),('svm',svm),('dt',dt),('rf',rf),('nn',nn)]\n",
    "\n",
    "#stack Model\n",
    "stack_model = StackingClassifier(estimators=estimator, final_estimator = LogisticRegression())\n",
    "stack_model.fit(X_train,y_train)\n",
    "\n",
    "#prediction\n",
    "y_train_pred = stack_model.predict(X_train)\n",
    "y_test_pred = stack_model.predict(X_test)\n",
    "\n",
    "#Training Set performance\n",
    "stack_model_train_accuracy = accuracy_score(y_train,y_train_pred)\n",
    "stack_model_train_mcc = matthews_corrcoef(y_train,y_train_pred)\n",
    "stack_model_train_f1score = f1_score(y_train,y_train_pred, average = 'weighted')\n",
    "\n",
    "#Testing Set performance\n",
    "stack_model_test_accuracy = accuracy_score(y_train,y_train_pred)\n",
    "stack_model_test_mcc = matthews_corrcoef(y_train,y_train_pred)\n",
    "stack_model_test_f1score = f1_score(y_train,y_train_pred, average = 'weighted')\n",
    "\n",
    "print('metrics for training are:')\n",
    "print(f' accuracy_score     {stack_model_train_accuracy}')\n",
    "print(f' matthews_corrcoef  {stack_model_train_mcc}') \n",
    "print(f' f1_score           {stack_model_train_f1score}')  \n",
    "\n",
    "print('------------------------------')\n",
    "\n",
    "print('metrics for training are:')\n",
    "print(f' accuracy_score     {stack_model_test_accuracy}')\n",
    "print(f' matthews_corrcoef  {stack_model_test_mcc}') \n",
    "print(f' f1_score           {stack_model_test_f1score}')\n"
   ]
  },
  {
   "cell_type": "markdown",
   "id": "80df9b20",
   "metadata": {},
   "source": [
    "## Results"
   ]
  },
  {
   "cell_type": "code",
   "execution_count": 161,
   "id": "d3048b61",
   "metadata": {},
   "outputs": [],
   "source": [
    "acc_train_list ={'knn':knn_train_accuracy,\n",
    "                 'svm':svm_train_accuracy,\n",
    "                 'dt':dt_train_accuracy,\n",
    "                 'rf':rf_train_accuracy,\n",
    "                 'nn':nn_train_accuracy,\n",
    "                 'stack_model':stack_model_train_accuracy}\n",
    "\n",
    "mcc_train_list = {'knn':knn_train_mcc,\n",
    "                 'svm':svm_train_mcc,\n",
    "                 'dt':dt_train_mcc,\n",
    "                 'rf':rf_train_mcc,\n",
    "                 'nn':nn_train_mcc,\n",
    "                 'stack_model':stack_model_train_mcc}\n",
    "\n",
    "f1_train_list = {'knn':knn_train_f1score,\n",
    "                 'svm':svm_train_f1score,\n",
    "                 'dt':dt_train_f1score,\n",
    "                 'rf':rf_train_f1score,\n",
    "                 'nn':nn_train_f1score,\n",
    "                 'stack_model':stack_model_train_f1score}"
   ]
  },
  {
   "cell_type": "code",
   "execution_count": 171,
   "id": "606d3c60",
   "metadata": {
    "scrolled": false
   },
   "outputs": [
    {
     "data": {
      "text/html": [
       "<div>\n",
       "<style scoped>\n",
       "    .dataframe tbody tr th:only-of-type {\n",
       "        vertical-align: middle;\n",
       "    }\n",
       "\n",
       "    .dataframe tbody tr th {\n",
       "        vertical-align: top;\n",
       "    }\n",
       "\n",
       "    .dataframe thead th {\n",
       "        text-align: right;\n",
       "    }\n",
       "</style>\n",
       "<table border=\"1\" class=\"dataframe\">\n",
       "  <thead>\n",
       "    <tr style=\"text-align: right;\">\n",
       "      <th></th>\n",
       "      <th>acc</th>\n",
       "      <th>mcc</th>\n",
       "      <th>f1</th>\n",
       "    </tr>\n",
       "  </thead>\n",
       "  <tbody>\n",
       "    <tr>\n",
       "      <th>knn</th>\n",
       "      <td>0.803347</td>\n",
       "      <td>0.556192</td>\n",
       "      <td>0.799388</td>\n",
       "    </tr>\n",
       "    <tr>\n",
       "      <th>svm</th>\n",
       "      <td>1.000000</td>\n",
       "      <td>1.000000</td>\n",
       "      <td>1.000000</td>\n",
       "    </tr>\n",
       "    <tr>\n",
       "      <th>dt</th>\n",
       "      <td>1.000000</td>\n",
       "      <td>1.000000</td>\n",
       "      <td>1.000000</td>\n",
       "    </tr>\n",
       "    <tr>\n",
       "      <th>rf</th>\n",
       "      <td>1.000000</td>\n",
       "      <td>1.000000</td>\n",
       "      <td>1.000000</td>\n",
       "    </tr>\n",
       "    <tr>\n",
       "      <th>nn</th>\n",
       "      <td>0.650628</td>\n",
       "      <td>0.000000</td>\n",
       "      <td>0.512916</td>\n",
       "    </tr>\n",
       "    <tr>\n",
       "      <th>stack_model</th>\n",
       "      <td>1.000000</td>\n",
       "      <td>1.000000</td>\n",
       "      <td>1.000000</td>\n",
       "    </tr>\n",
       "  </tbody>\n",
       "</table>\n",
       "</div>"
      ],
      "text/plain": [
       "                  acc       mcc        f1\n",
       "knn          0.803347  0.556192  0.799388\n",
       "svm          1.000000  1.000000  1.000000\n",
       "dt           1.000000  1.000000  1.000000\n",
       "rf           1.000000  1.000000  1.000000\n",
       "nn           0.650628  0.000000  0.512916\n",
       "stack_model  1.000000  1.000000  1.000000"
      ]
     },
     "execution_count": 171,
     "metadata": {},
     "output_type": "execute_result"
    }
   ],
   "source": [
    "acc_df = pd.DataFrame.from_dict(acc_train_list, orient = 'index', columns = ['acc'])\n",
    "mcc_df = pd.DataFrame.from_dict(mcc_train_list, orient = 'index', columns = ['mcc'])\n",
    "f1_df = pd.DataFrame.from_dict(f1_train_list, orient = 'index', columns = ['f1'])\n",
    "df = pd.concat([acc_df,mcc_df,f1_df],axis = 1)\n",
    "df"
   ]
  },
  {
   "cell_type": "code",
   "execution_count": 172,
   "id": "4fbabd88",
   "metadata": {},
   "outputs": [],
   "source": [
    "df.to_csv('results.csv')"
   ]
  }
 ],
 "metadata": {
  "kernelspec": {
   "display_name": "Python 3 (ipykernel)",
   "language": "python",
   "name": "python3"
  },
  "language_info": {
   "codemirror_mode": {
    "name": "ipython",
    "version": 3
   },
   "file_extension": ".py",
   "mimetype": "text/x-python",
   "name": "python",
   "nbconvert_exporter": "python",
   "pygments_lexer": "ipython3",
   "version": "3.9.12"
  }
 },
 "nbformat": 4,
 "nbformat_minor": 5
}
